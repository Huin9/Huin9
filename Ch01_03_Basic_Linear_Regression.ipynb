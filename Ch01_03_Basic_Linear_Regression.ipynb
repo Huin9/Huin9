{
  "nbformat": 4,
  "nbformat_minor": 0,
  "metadata": {
    "colab": {
      "name": "Ch01_03_Basic_Linear_Regression.ipynb",
      "provenance": [],
      "collapsed_sections": [],
      "toc_visible": true,
      "authorship_tag": "ABX9TyMT3Kqt09BvhleaK2ccZIiR",
      "include_colab_link": true
    },
    "kernelspec": {
      "name": "python3",
      "display_name": "Python 3"
    },
    "language_info": {
      "name": "python"
    }
  },
  "cells": [
    {
      "cell_type": "markdown",
      "metadata": {
        "id": "view-in-github",
        "colab_type": "text"
      },
      "source": [
        "<a href=\"https://colab.research.google.com/github/Huin9/Huin9/blob/main/Ch01_03_Basic_Linear_Regression.ipynb\" target=\"_parent\"><img src=\"https://colab.research.google.com/assets/colab-badge.svg\" alt=\"Open In Colab\"/></a>"
      ]
    },
    {
      "cell_type": "markdown",
      "metadata": {
        "id": "__63H0xfE65c"
      },
      "source": [
        "> # Chapter01 - Linear Regression\n",
        "---\n",
        "- with Sin function\n",
        "\n",
        "친숙하게 알고 있는 Sin 그래프를 이용해서  \n",
        "Linear Regression을 Scikit Learn Library를 이용해 수행해보자"
      ]
    },
    {
      "cell_type": "markdown",
      "metadata": {
        "id": "XGjCQVAyGGdq"
      },
      "source": [
        "## **Import Library**"
      ]
    },
    {
      "cell_type": "code",
      "metadata": {
        "id": "gZo_qacZDYca"
      },
      "source": [
        "import numpy as np\n",
        "from matplotlib import pyplot as plt"
      ],
      "execution_count": null,
      "outputs": []
    },
    {
      "cell_type": "markdown",
      "metadata": {
        "id": "_OrhF-jxGPXl"
      },
      "source": [
        "## **Prepare simple dataset**"
      ]
    },
    {
      "cell_type": "code",
      "metadata": {
        "id": "qc0iUmIyDYZR",
        "colab": {
          "base_uri": "https://localhost:8080/"
        },
        "outputId": "84dc33ae-355c-4add-f656-0d9b6fcf0513"
      },
      "source": [
        "print(np.pi)"
      ],
      "execution_count": null,
      "outputs": [
        {
          "output_type": "stream",
          "text": [
            "3.141592653589793\n"
          ],
          "name": "stdout"
        }
      ]
    },
    {
      "cell_type": "code",
      "metadata": {
        "id": "XUlkCxlxDYWk"
      },
      "source": [
        "# true data\n",
        "N = 100\n",
        "# linspace = 선형구간 혹은 로그 구간을 지정한 구간의 수만큼 분할한다.\n",
        "# 시작, 끝(포함), 갯수\n",
        "# reshpae = 기존 데이터는 유지하고 차원과 형상을 바꿈.\n",
        "# ex) 3개의 행과 4개의 열로 구성된 배열로 재구성하고 싶으면 reshape(3,4)\n",
        "# reshape(N,1) = N개 행, 1개 열\n",
        "\n",
        "# x값은 0/~2*pi 이고\n",
        "# y값은 -1~1사이의 값\n",
        "X = np.linspace(0,2*np.pi, N).reshape(N,1)"
      ],
      "execution_count": null,
      "outputs": []
    },
    {
      "cell_type": "code",
      "metadata": {
        "colab": {
          "base_uri": "https://localhost:8080/"
        },
        "id": "fCDz-YeJJNb_",
        "outputId": "cdc81b68-c9ed-431c-d6ad-3c0e4117cc74"
      },
      "source": [
        "X[:5]"
      ],
      "execution_count": null,
      "outputs": [
        {
          "output_type": "execute_result",
          "data": {
            "text/plain": [
              "array([[0.        ],\n",
              "       [0.06346652],\n",
              "       [0.12693304],\n",
              "       [0.19039955],\n",
              "       [0.25386607]])"
            ]
          },
          "metadata": {
            "tags": []
          },
          "execution_count": 9
        }
      ]
    },
    {
      "cell_type": "code",
      "metadata": {
        "id": "3VmWwFZTDYT_",
        "colab": {
          "base_uri": "https://localhost:8080/",
          "height": 282
        },
        "outputId": "5381aa88-72dc-4f9f-c64c-73dca5bc635c"
      },
      "source": [
        "# plot 그리기\n",
        "y = np.sin(X)\n",
        "plt.plot(X,y)\n",
        "plt.scatter(X,y)"
      ],
      "execution_count": null,
      "outputs": [
        {
          "output_type": "execute_result",
          "data": {
            "text/plain": [
              "<matplotlib.collections.PathCollection at 0x7f6c1c4d1f90>"
            ]
          },
          "metadata": {
            "tags": []
          },
          "execution_count": 11
        },
        {
          "output_type": "display_data",
          "data": {
            "image/png": "[encoded data removed]",
            "text/plain": [
              "<Figure size 432x288 with 1 Axes>"
            ]
          },
          "metadata": {
            "tags": [],
            "needs_background": "light"
          }
        }
      ]
    },
    {
      "cell_type": "markdown",
      "metadata": {
        "id": "H879KzfRJjWE"
      },
      "source": [
        "### **Noise 만들어주기**\n",
        "- rand(0과 1사이의 난수를 발생시키는)명령어를 사용"
      ]
    },
    {
      "cell_type": "code",
      "metadata": {
        "id": "fv8EajxRDYRN",
        "colab": {
          "base_uri": "https://localhost:8080/",
          "height": 281
        },
        "outputId": "ec15bbe8-ae08-4ecd-f3e9-65651afa88f3"
      },
      "source": [
        "np.random.seed(1)\n",
        "y += 0.3*np.random.rand(N, 1)\n",
        "\n",
        "plt.scatter(X,y)\n",
        "plt.title(\"sine wave noise data\")\n",
        "plt.show()"
      ],
      "execution_count": null,
      "outputs": [
        {
          "output_type": "display_data",
          "data": {
            "image/png": "[encoded data removed]",
            "text/plain": [
              "<Figure size 432x288 with 1 Axes>"
            ]
          },
          "metadata": {
            "tags": [],
            "needs_background": "light"
          }
        }
      ]
    },
    {
      "cell_type": "code",
      "metadata": {
        "id": "zHRgxlM8DYOj",
        "colab": {
          "base_uri": "https://localhost:8080/",
          "height": 281
        },
        "outputId": "1b83cdd2-5c67-438e-e720-f4f5e0c498c9"
      },
      "source": [
        "# 기존 그래프와 함께 plotting\n",
        "\n",
        "y = np.sin(X)\n",
        "plt.plot(X,y)\n",
        "\n",
        "# add noise\n",
        "np.random.rand(1)\n",
        "y += 0.3*np.random.rand(N, 1)\n",
        "\n",
        "plt.scatter(X,y)\n",
        "plt.title(\"sine wave data\")\n",
        "plt.show()"
      ],
      "execution_count": null,
      "outputs": [
        {
          "output_type": "display_data",
          "data": {
            "image/png": "[encoded data removed]",
            "text/plain": [
              "<Figure size 432x288 with 1 Axes>"
            ]
          },
          "metadata": {
            "tags": [],
            "needs_background": "light"
          }
        }
      ]
    },
    {
      "cell_type": "markdown",
      "metadata": {
        "id": "HlAwy-P7MeAx"
      },
      "source": [
        "### **Shuffle Dataset**"
      ]
    },
    {
      "cell_type": "code",
      "metadata": {
        "id": "lE-nlFG2DYL3"
      },
      "source": [
        "# shuffle data\n",
        "np.random.seed(10)\n",
        "\n",
        "# N은 100이므로 1~100까지의 수를 섞어준다(permutation(N))\n",
        "idx = np.random.permutation(N)"
      ],
      "execution_count": null,
      "outputs": []
    },
    {
      "cell_type": "code",
      "metadata": {
        "id": "4ZQeBhqDDYJD",
        "colab": {
          "base_uri": "https://localhost:8080/"
        },
        "outputId": "acdef5e7-d796-4995-a620-a6af0127d452"
      },
      "source": [
        "idx"
      ],
      "execution_count": null,
      "outputs": [
        {
          "output_type": "execute_result",
          "data": {
            "text/plain": [
              "array([19, 14, 43, 37, 66,  3, 79, 41, 38, 68,  2,  1, 60, 53, 95, 74, 92,\n",
              "       26, 59, 46, 90, 70, 50, 44, 76, 55, 21, 61,  6, 63, 42, 34, 84, 52,\n",
              "       35, 39, 45,  4,  5, 48, 32, 20, 83, 58, 47, 80, 17, 67, 81,  7, 87,\n",
              "       97, 98, 99, 24, 10, 96, 86, 56, 71, 23, 22, 91, 94, 18, 27, 88, 57,\n",
              "       31, 65, 12, 82, 30, 75, 25, 13, 69, 77, 85, 51, 49, 78, 72, 33, 62,\n",
              "       54, 11, 16, 36, 40,  0, 73,  8, 29, 93, 89, 28, 64, 15,  9])"
            ]
          },
          "metadata": {
            "tags": []
          },
          "execution_count": 40
        }
      ]
    },
    {
      "cell_type": "code",
      "metadata": {
        "id": "m9twBpiADYGY",
        "colab": {
          "base_uri": "https://localhost:8080/"
        },
        "outputId": "f175a7b5-16c5-4828-abf9-bea28f978102"
      },
      "source": [
        "shuffle_X = X[idx]\n",
        "shuffle_y = y[idx]\n",
        "\n",
        "print(shuffle_X[:3])\n",
        "print(shuffle_y[:3])"
      ],
      "execution_count": null,
      "outputs": [
        {
          "output_type": "stream",
          "text": [
            "[[1.20586385]\n",
            " [0.88853126]\n",
            " [2.72906028]]\n",
            "[[1.071723  ]\n",
            " [0.96409531]\n",
            " [0.444598  ]]\n"
          ],
          "name": "stdout"
        }
      ]
    },
    {
      "cell_type": "markdown",
      "metadata": {
        "id": "XCMDmXEyNfvt"
      },
      "source": [
        "### **Split train & test (3:1의 비율)**"
      ]
    },
    {
      "cell_type": "code",
      "metadata": {
        "id": "TnndrtPnDYFF"
      },
      "source": [
        "# 3:1의 비율로 train test를 나눔\n",
        "n = int(N*(3/4))\n",
        "\n",
        "# train data\n",
        "X_train = shuffle_X[:n]\n",
        "y_train = shuffle_y[:n]"
      ],
      "execution_count": null,
      "outputs": []
    },
    {
      "cell_type": "code",
      "metadata": {
        "id": "Pc01XBt7DYAS"
      },
      "source": [
        "# test data\n",
        "X_test = shuffle_X[n:]\n",
        "y_test = shuffle_y[n:]"
      ],
      "execution_count": null,
      "outputs": []
    },
    {
      "cell_type": "code",
      "metadata": {
        "id": "ynr5McR4DV2F",
        "colab": {
          "base_uri": "https://localhost:8080/",
          "height": 545
        },
        "outputId": "7d3aa711-8ddf-4550-d6f2-85dae57d7d08"
      },
      "source": [
        "# plot\n",
        "plt.scatter(X_train, y_train, label = 'train')\n",
        "plt.legend()\n",
        "plt.title('sine wave train data')\n",
        "plt.show()\n",
        "\n",
        "plt.scatter(X_test, y_test, label = 'test')\n",
        "plt.legend()\n",
        "plt.title('sine wave test data')\n",
        "plt.show()"
      ],
      "execution_count": null,
      "outputs": [
        {
          "output_type": "display_data",
          "data": {
            "image/png": "[encoded data removed]",
            "text/plain": [
              "<Figure size 432x288 with 1 Axes>"
            ]
          },
          "metadata": {
            "tags": [],
            "needs_background": "light"
          }
        },
        {
          "output_type": "display_data",
          "data": {
            "image/png": "[encoded data removed]",
            "text/plain": [
              "<Figure size 432x288 with 1 Axes>"
            ]
          },
          "metadata": {
            "tags": [],
            "needs_background": "light"
          }
        }
      ]
    },
    {
      "cell_type": "markdown",
      "metadata": {
        "id": "HlxwoQbdQqvJ"
      },
      "source": [
        "## **Perform Linear Regression**\n",
        "- compute W using sklearn library"
      ]
    },
    {
      "cell_type": "code",
      "metadata": {
        "colab": {
          "base_uri": "https://localhost:8080/"
        },
        "id": "VYZzKZcMQRY3",
        "outputId": "8777cd0b-46e2-4618-de64-eb41249e2194"
      },
      "source": [
        "from sklearn.linear_model import LinearRegression\n",
        "\n",
        "reg = LinearRegression()\n",
        "reg.fit(X_train, y_train)\n",
        "\n",
        "print(reg.intercept_) # 절편\n",
        "print(reg.coef_) # 기울기"
      ],
      "execution_count": null,
      "outputs": [
        {
          "output_type": "stream",
          "text": [
            "[1.03487449]\n",
            "[[-0.27807301]]\n"
          ],
          "name": "stdout"
        }
      ]
    },
    {
      "cell_type": "markdown",
      "metadata": {
        "id": "elX1Cvh8RMMQ"
      },
      "source": [
        "## **Prediction**\n",
        "- X data를 이용해서 Prediction을 하기 위해서는 .predict를 이용"
      ]
    },
    {
      "cell_type": "code",
      "metadata": {
        "id": "X9oHpWa9RLxq"
      },
      "source": [
        "Pred = reg.predict(X_train)"
      ],
      "execution_count": null,
      "outputs": []
    },
    {
      "cell_type": "code",
      "metadata": {
        "colab": {
          "base_uri": "https://localhost:8080/",
          "height": 281
        },
        "id": "Nkb_OmEAQpvN",
        "outputId": "c0f4d108-5d4c-487a-d5f7-e6c1dc9e25d4"
      },
      "source": [
        "plt.figure()\n",
        "plt.scatter(X_train, Pred, label='pred')\n",
        "plt.scatter(X_train, y_train, label = 'target')\n",
        "plt.legend()\n",
        "plt.title('train data')\n",
        "plt.show()"
      ],
      "execution_count": null,
      "outputs": [
        {
          "output_type": "display_data",
          "data": {
            "image/png": "[encoded data removed]",
            "text/plain": [
              "<Figure size 432x288 with 1 Axes>"
            ]
          },
          "metadata": {
            "tags": [],
            "needs_background": "light"
          }
        }
      ]
    },
    {
      "cell_type": "code",
      "metadata": {
        "colab": {
          "base_uri": "https://localhost:8080/",
          "height": 281
        },
        "id": "cKL6YTSsQpsN",
        "outputId": "bebeaed5-928c-4341-909b-92412538d7c5"
      },
      "source": [
        "plt.figure()\n",
        "plt.scatter(X_test, reg.predict(X_test), label='pred')\n",
        "plt.scatter(X_test, y_test, label = 'target')\n",
        "plt.legend()\n",
        "plt.title('test data')\n",
        "plt.show()"
      ],
      "execution_count": null,
      "outputs": [
        {
          "output_type": "display_data",
          "data": {
            "image/png": "[encoded data removed]",
            "text/plain": [
              "<Figure size 432x288 with 1 Axes>"
            ]
          },
          "metadata": {
            "tags": [],
            "needs_background": "light"
          }
        }
      ]
    },
    {
      "cell_type": "markdown",
      "metadata": {
        "id": "nlnbmfN4SfLk"
      },
      "source": [
        "### **Practice**\n",
        "- Another Dataset\n",
        "- 임의의function을 지정한 후 linear regression을 수행\n",
        "\n",
        "$$y = 2x + 5$$"
      ]
    },
    {
      "cell_type": "code",
      "metadata": {
        "id": "vCL7s9I_Qppf"
      },
      "source": [
        "X = 3 * np.random.rand(100,1) # shape => (100,1)\n",
        "y = 2*X + 5\n",
        "\n",
        "# add_noise\n",
        "y_noise = y + np.random.rand(100, 1) # noise data를 가진 y값"
      ],
      "execution_count": null,
      "outputs": []
    },
    {
      "cell_type": "code",
      "metadata": {
        "colab": {
          "base_uri": "https://localhost:8080/",
          "height": 281
        },
        "id": "R-zx0wQDQpml",
        "outputId": "a0574264-f9cf-43a9-eaf0-617b7506370d"
      },
      "source": [
        "plt.scatter(X, y_noise)\n",
        "plt.title('dataset plot')\n",
        "plt.show()"
      ],
      "execution_count": null,
      "outputs": [
        {
          "output_type": "display_data",
          "data": {
            "image/png": "[encoded data removed]",
            "text/plain": [
              "<Figure size 432x288 with 1 Axes>"
            ]
          },
          "metadata": {
            "tags": [],
            "needs_background": "light"
          }
        }
      ]
    },
    {
      "cell_type": "code",
      "metadata": {
        "id": "N6Llc0VfQpg6"
      },
      "source": [
        "N = 100 \n",
        "np.random.seed(100)\n",
        "idx = np.random.permutation(N)"
      ],
      "execution_count": null,
      "outputs": []
    },
    {
      "cell_type": "code",
      "metadata": {
        "id": "TSuOu79hQpdl"
      },
      "source": [
        "shuffle_X = X[idx]\n",
        "shuffle_y = y_noise[idx]"
      ],
      "execution_count": null,
      "outputs": []
    },
    {
      "cell_type": "code",
      "metadata": {
        "id": "52P4ig_5QpbV"
      },
      "source": [
        "n = int(N*(3/4))\n",
        "train_X = shuffle_X[:n]  \n",
        "train_y = shuffle_y[:n]\n",
        "\n",
        "test_X = shuffle_X[n:]\n",
        "test_y = shuffle_y[n:] "
      ],
      "execution_count": null,
      "outputs": []
    },
    {
      "cell_type": "code",
      "metadata": {
        "colab": {
          "base_uri": "https://localhost:8080/"
        },
        "id": "iLK17Xj0QpXo",
        "outputId": "2fb1e9b0-b211-4649-e15b-3185a905f63d"
      },
      "source": [
        "from sklearn.linear_model import LinearRegression\n",
        "\n",
        "reg = LinearRegression()\n",
        "reg.fit(train_X, train_y)\n",
        "\n",
        "print(reg.intercept_)\n",
        "print(reg.coef_)"
      ],
      "execution_count": null,
      "outputs": [
        {
          "output_type": "stream",
          "text": [
            "[5.38776526]\n",
            "[[2.06806603]]\n"
          ],
          "name": "stdout"
        }
      ]
    },
    {
      "cell_type": "code",
      "metadata": {
        "colab": {
          "base_uri": "https://localhost:8080/",
          "height": 285
        },
        "id": "-JzZivJhX3i0",
        "outputId": "c947e7e1-0ef7-4734-aeb2-7529a7a1befa"
      },
      "source": [
        "plt.scatter(train_X, train_y)"
      ],
      "execution_count": null,
      "outputs": [
        {
          "output_type": "execute_result",
          "data": {
            "text/plain": [
              "<matplotlib.collections.PathCollection at 0x7f6c0b61c190>"
            ]
          },
          "metadata": {
            "tags": []
          },
          "execution_count": 71
        },
        {
          "output_type": "display_data",
          "data": {
            "image/png": "[encoded data removed]",
            "text/plain": [
              "<Figure size 432x288 with 1 Axes>"
            ]
          },
          "metadata": {
            "tags": [],
            "needs_background": "light"
          }
        }
      ]
    },
    {
      "cell_type": "code",
      "metadata": {
        "colab": {
          "base_uri": "https://localhost:8080/",
          "height": 267
        },
        "id": "GDBBwTgVXn3O",
        "outputId": "e9b27e58-2168-4b7b-91b8-18ac4010120f"
      },
      "source": [
        "Pred = reg.predict(train_X)\n",
        "\n",
        "plt.figure()\n",
        "plt.scatter(train_X, train_y, label = 'target')\n",
        "plt.scatter(train_X, Pred, label = 'pred')\n",
        "plt.legend()\n",
        "plt.show()"
      ],
      "execution_count": null,
      "outputs": [
        {
          "output_type": "display_data",
          "data": {
            "image/png": "[encoded data removed]",
            "text/plain": [
              "<Figure size 432x288 with 1 Axes>"
            ]
          },
          "metadata": {
            "tags": [],
            "needs_background": "light"
          }
        }
      ]
    },
    {
      "cell_type": "code",
      "metadata": {
        "colab": {
          "base_uri": "https://localhost:8080/",
          "height": 265
        },
        "id": "guwFL49iQpUw",
        "outputId": "a25c3797-2eaf-408f-d79c-59b758f9e1bf"
      },
      "source": [
        "Pred = reg.predict(test_X)\n",
        "\n",
        "plt.figure()\n",
        "plt.scatter(test_X, test_y, label = 'target')\n",
        "plt.scatter(test_X, Pred, label = 'pred')\n",
        "plt.legend()\n",
        "plt.show()"
      ],
      "execution_count": null,
      "outputs": [
        {
          "output_type": "display_data",
          "data": {
            "image/png": "[encoded data removed]",
            "text/plain": [
              "<Figure size 432x288 with 1 Axes>"
            ]
          },
          "metadata": {
            "tags": [],
            "needs_background": "light"
          }
        }
      ]
    },
    {
      "cell_type": "markdown",
      "metadata": {
        "id": "GYm15FRgZm-O"
      },
      "source": [
        "## **Polynomial Regression**\n",
        "\n",
        "#### **Another Dataset**\n",
        "$$y = x{^2} +3x + 5$$"
      ]
    },
    {
      "cell_type": "code",
      "metadata": {
        "id": "b0nUgU4rXEaZ"
      },
      "source": [
        "np.random.seed(5)\n",
        "\n",
        "N = 100\n",
        "# 기존 x 범위는 0~6 사이였으나 -3이 있으므로 -3~3이 범위로 바뀌게 된다.\n",
        "\n",
        "X = 6 * np.random.rand(N,1) - 3\n",
        "y = X**2 + X*3 + 5"
      ],
      "execution_count": null,
      "outputs": []
    },
    {
      "cell_type": "markdown",
      "metadata": {
        "id": "Kf87LxRJdLvj"
      },
      "source": [
        "noise 추가"
      ]
    },
    {
      "cell_type": "code",
      "metadata": {
        "id": "QBTJlmo6YhHb"
      },
      "source": [
        "y_noise = y + 3*np.random.rand(N,1)"
      ],
      "execution_count": null,
      "outputs": []
    },
    {
      "cell_type": "code",
      "metadata": {
        "colab": {
          "base_uri": "https://localhost:8080/",
          "height": 281
        },
        "id": "Hp5Mslc_YhEn",
        "outputId": "e0e42675-2bea-4a83-d5f3-a6071e3a17b4"
      },
      "source": [
        "plt.scatter(X, y_noise)\n",
        "plt.title('dataset')\n",
        "plt.show()"
      ],
      "execution_count": null,
      "outputs": [
        {
          "output_type": "display_data",
          "data": {
            "image/png": "[encoded data removed]",
            "text/plain": [
              "<Figure size 432x288 with 1 Axes>"
            ]
          },
          "metadata": {
            "tags": [],
            "needs_background": "light"
          }
        }
      ]
    },
    {
      "cell_type": "code",
      "metadata": {
        "colab": {
          "base_uri": "https://localhost:8080/"
        },
        "id": "aVoF0zo6YhB3",
        "outputId": "a5960c1a-a8d8-48af-ec49-7698e21d69e0"
      },
      "source": [
        "from sklearn.linear_model import LinearRegression\n",
        "\n",
        "reg = LinearRegression()\n",
        "reg.fit(X, y_noise)\n",
        "\n",
        "print('w0: ', reg.intercept_ )\n",
        "print('w1: ', reg.coef_)"
      ],
      "execution_count": null,
      "outputs": [
        {
          "output_type": "stream",
          "text": [
            "w0:  [9.86809285]\n",
            "w1:  [[2.97610592]]\n"
          ],
          "name": "stdout"
        }
      ]
    },
    {
      "cell_type": "code",
      "metadata": {
        "colab": {
          "base_uri": "https://localhost:8080/",
          "height": 281
        },
        "id": "f9JepmLBYg-x",
        "outputId": "8a949f40-f209-4180-f917-c49dd9ea4d3e"
      },
      "source": [
        "plt.figure()\n",
        "plt.scatter(X, y_noise, label ='target')\n",
        "plt.scatter(X, reg.predict(X), label ='pred')\n",
        "\n",
        "plt.legend()\n",
        "plt.title('Prediction')\n",
        "plt.show()"
      ],
      "execution_count": null,
      "outputs": [
        {
          "output_type": "display_data",
          "data": {
            "image/png": "[encoded data removed]",
            "text/plain": [
              "<Figure size 432x288 with 1 Axes>"
            ]
          },
          "metadata": {
            "tags": [],
            "needs_background": "light"
          }
        }
      ]
    },
    {
      "cell_type": "markdown",
      "metadata": {
        "id": "ErDEfyt2eFMI"
      },
      "source": [
        "- 위의 예시에서 보듯, Sin Function 그래프를 1차원 직선으로 나타내기에 무리가 있음.\n",
        "- X의 feature를 더추가해주어서 좀 더 정확한 Linear Regression을 수행"
      ]
    },
    {
      "cell_type": "markdown",
      "metadata": {
        "id": "OQhRkDz_eRQz"
      },
      "source": [
        "### 좀 더 자세히 살펴보자\n",
        "\n",
        "$$y_{1} = w_{1}x_{1} + w_{0}$$\n",
        "\n",
        "(여기서 $w_{1}$ 은 reg.coef_ 이고 $w_{0}$ 은 reg.intercept_ 로 구했음) <br>\n",
        "와 같은 간단한 직선 방정식의 형태를 가정하고 풀었던 과정이었다.\n",
        "***\n",
        "이것은 우리가 가지고 있는 X 의 feature 가 하나 밖에 있지 않았기 때문이다.<br>\n",
        "하지만 X 의 feature 를 제곱, 세제곱의 형태로 임의로 늘려준다면 방정식은 1차원의 직선이 아닌, 아래와 같이 고차원의 식으로 변할 수 있다.\n",
        "\n",
        "$\n",
        "\\begin{align}\n",
        "y_{1} = w_{n}x_{1}^n + w_{n-1}x_{1}^{n-1} + ... + w_{2}x_{1}^2 + w_{1}x_{1}^1 + w_{0}\n",
        "\\end{align}\n",
        "$\n",
        "\n",
        "여기서<br>\n",
        "\n",
        "${\\phi}$ function 을 새로 정의하고 이것이 다음을 나타 낼 때,\n",
        "\n",
        "$\n",
        "\\begin{align}\n",
        "{\\phi}_{n}(x) = x^n\n",
        "\\end{align}\n",
        "$\n",
        "\n",
        "주어진 식은 다음과 같이 다시 쓸 수 있다.<br>\n",
        "\n",
        "$\n",
        "\\begin{align}\n",
        "y_{1} = w_{n}{\\phi}_{n}(x_{1}) + w_{n-1}{\\phi}_{n-1}(x_{1}) + ... + w_{2}{\\phi}_{2}(x_{1}) + w_{1}{\\phi}_{1}(x_{1}) + w_{0}{\\phi}_{0}(x_{1})\n",
        "\\end{align}\n",
        "$\n",
        "***\n",
        "즉, 기존의 X 를 제곱, 세제곱의 형태를 만들어서 feature 를 추가해준다면, 좀 더 정확한 Model 을 얻게 될 것이다.\n"
      ]
    },
    {
      "cell_type": "markdown",
      "metadata": {
        "id": "64wtwSGZjUdU"
      },
      "source": [
        "### **Library**를 이용해서 feature를 추가해보자\n",
        "\n",
        "Feature를 추가할 때는 PolynomialFeatures를 사용  \n",
        "제곱,세제곱 등의 계산이 가능"
      ]
    },
    {
      "cell_type": "code",
      "metadata": {
        "id": "x_tnF3KAYg8T"
      },
      "source": [
        "from sklearn.preprocessing import PolynomialFeatures"
      ],
      "execution_count": null,
      "outputs": []
    },
    {
      "cell_type": "code",
      "metadata": {
        "colab": {
          "base_uri": "https://localhost:8080/"
        },
        "id": "9xVM3LTIYg0u",
        "outputId": "ad4f51a5-71e3-406a-833e-f21f26a6a41e"
      },
      "source": [
        "# transfrom from (x) to (1,x,x^2) ## default\n",
        "polynomial = PolynomialFeatures(degree=2, include_bias='default')\n",
        "new_feature = polynomial.fit_transform(X)\n",
        "print(new_feature[:2])\n",
        "# transform from (x) to (x, x^2) ## include_bias = False\n",
        "\n",
        "polynomial = PolynomialFeatures(degree=2, include_bias=False)\n",
        "new_feature = polynomial.fit_transform(X)\n",
        "print(new_feature[:2])"
      ],
      "execution_count": null,
      "outputs": [
        {
          "output_type": "stream",
          "text": [
            "[[1.         0.         0.        ]\n",
            " [1.         0.06346652 0.004028  ]]\n",
            "[[0.         0.        ]\n",
            " [0.06346652 0.004028  ]]\n"
          ],
          "name": "stdout"
        }
      ]
    },
    {
      "cell_type": "code",
      "metadata": {
        "colab": {
          "base_uri": "https://localhost:8080/"
        },
        "id": "JUqv4FwVYgx-",
        "outputId": "bf89e930-af25-4fec-804c-eb4eb7b5e129"
      },
      "source": [
        "print(\"기존의 X[0]: \", X[0])\n",
        "print(\"Feature가 추가된 X[0]:\" , new_feature[0])"
      ],
      "execution_count": null,
      "outputs": [
        {
          "output_type": "stream",
          "text": [
            "기존의 X[0]:  [-1.66804097]\n",
            "Feature가 추가된 X[0]: [-1.66804097  2.78236069]\n"
          ],
          "name": "stdout"
        }
      ]
    },
    {
      "cell_type": "code",
      "metadata": {
        "colab": {
          "base_uri": "https://localhost:8080/"
        },
        "id": "j8kyCDhJYgvF",
        "outputId": "ca3cfd0b-2871-439c-dc82-dc9c830b68b1"
      },
      "source": [
        "print((-1.66804097)**2)"
      ],
      "execution_count": null,
      "outputs": [
        {
          "output_type": "stream",
          "text": [
            "2.782360677598541\n"
          ],
          "name": "stdout"
        }
      ]
    },
    {
      "cell_type": "markdown",
      "metadata": {
        "id": "uRk3mMfslDMP"
      },
      "source": [
        "### **Feature를 추가한 상태에서 LinearRegression을 다시 사용**"
      ]
    },
    {
      "cell_type": "code",
      "metadata": {
        "colab": {
          "base_uri": "https://localhost:8080/"
        },
        "id": "KXfXyfxqlAV0",
        "outputId": "4f45c1c4-48c6-4b15-b5b4-e317a8f8edb5"
      },
      "source": [
        "from sklearn.linear_model import LinearRegression\n",
        "\n",
        "reg = LinearRegression()\n",
        "reg.fit(new_feature, y_noise)\n",
        "\n",
        "print('w0:', reg.intercept_)\n",
        "print('w1:', reg.coef_)"
      ],
      "execution_count": null,
      "outputs": [
        {
          "output_type": "stream",
          "text": [
            "w0: [6.82439098]\n",
            "w1: [[3.02103818 0.92278965]]\n"
          ],
          "name": "stdout"
        }
      ]
    },
    {
      "cell_type": "markdown",
      "metadata": {
        "id": "5NIWvQ5KlfQz"
      },
      "source": [
        "$$y = x{^2} +3x + 5 $$\n",
        "\n",
        "$$y = 0.92x{^2} + 3.02x + 6.82 $$\n"
      ]
    },
    {
      "cell_type": "code",
      "metadata": {
        "colab": {
          "base_uri": "https://localhost:8080/",
          "height": 281
        },
        "id": "KLZI38zNk0_x",
        "outputId": "b3259d5c-4ec3-48c0-a281-797d995f92ac"
      },
      "source": [
        "plt.figure()\n",
        "plt.scatter(X, y_noise, label ='target')\n",
        "plt.scatter(X, reg.predict(new_feature), label = 'pred')\n",
        "\n",
        "plt.legend()\n",
        "plt.title(\"Polynomial Reg Prediction\")\n",
        "plt.show()"
      ],
      "execution_count": null,
      "outputs": [
        {
          "output_type": "display_data",
          "data": {
            "image/png": "[encoded data removed]",
            "text/plain": [
              "<Figure size 432x288 with 1 Axes>"
            ]
          },
          "metadata": {
            "tags": [],
            "needs_background": "light"
          }
        }
      ]
    },
    {
      "cell_type": "markdown",
      "metadata": {
        "id": "1-E7EDlpmM2p"
      },
      "source": [
        "# **Practice1**\n",
        "\n",
        "## **Polynomial Regression**\n",
        "\n",
        "x의 범위는 -2~2\n",
        "\n",
        "$$ y = 3x{^3} + 2x{^2}+ 7x + 5$$"
      ]
    },
    {
      "cell_type": "code",
      "metadata": {
        "id": "A1NkJEZEmCOA"
      },
      "source": [
        "np.random.seed(10)\n",
        "\n",
        "N = 100\n",
        "X = 4 * np.random.rand(N, 1)-2 #-2~2로 범위를 만들기 위해\n",
        "y = 3*X**3 + 2*X**2 + 7*X + 5\n",
        "\n",
        "y_noise = y + 10*np.random.rand(N,1)"
      ],
      "execution_count": null,
      "outputs": []
    },
    {
      "cell_type": "code",
      "metadata": {
        "colab": {
          "base_uri": "https://localhost:8080/",
          "height": 281
        },
        "id": "wWV3EekVmCIN",
        "outputId": "485a82ac-6749-4ce1-f321-05cb00546db9"
      },
      "source": [
        "plt.scatter(X, y_noise)\n",
        "plt.title(\"dataset\")\n",
        "plt.show()"
      ],
      "execution_count": null,
      "outputs": [
        {
          "output_type": "display_data",
          "data": {
            "image/png": "[encoded data removed]",
            "text/plain": [
              "<Figure size 432x288 with 1 Axes>"
            ]
          },
          "metadata": {
            "tags": [],
            "needs_background": "light"
          }
        }
      ]
    },
    {
      "cell_type": "code",
      "metadata": {
        "colab": {
          "base_uri": "https://localhost:8080/"
        },
        "id": "vPS0zvBQmCES",
        "outputId": "70076a3c-dbe7-46fd-c185-2aeb3a57a8dc"
      },
      "source": [
        "from sklearn.preprocessing import PolynomialFeatures\n",
        "\n",
        "Polynomial = PolynomialFeatures(degree=3, include_bias= True)\n",
        "new_feature = Polynomial.fit_transform(X)\n",
        "new_feature[0]"
      ],
      "execution_count": null,
      "outputs": [
        {
          "output_type": "execute_result",
          "data": {
            "text/plain": [
              "array([1.        , 1.08528257, 1.17783826, 1.27828734])"
            ]
          },
          "metadata": {
            "tags": []
          },
          "execution_count": 133
        }
      ]
    },
    {
      "cell_type": "code",
      "metadata": {
        "colab": {
          "base_uri": "https://localhost:8080/"
        },
        "id": "cIhcp3F8oUzi",
        "outputId": "576d2b66-a5fc-42cc-e5d7-5ce779d19bde"
      },
      "source": [
        "reg = LinearRegression()\n",
        "reg.fit(new_feature, y_noise)\n",
        "\n",
        "print(reg.intercept_)\n",
        "print(reg.coef_)"
      ],
      "execution_count": null,
      "outputs": [
        {
          "output_type": "stream",
          "text": [
            "[9.18157997]\n",
            "[[0.         6.35064075 2.3300474  3.20666863]]\n"
          ],
          "name": "stdout"
        }
      ]
    },
    {
      "cell_type": "code",
      "metadata": {
        "colab": {
          "base_uri": "https://localhost:8080/",
          "height": 281
        },
        "id": "SzNa-JETmB_Q",
        "outputId": "41012f18-4f3a-450b-cbd9-cd8802959af1"
      },
      "source": [
        "plt.figure()\n",
        "plt.scatter(X, y_noise, label = 'target')\n",
        "plt.scatter(X, reg.predict(new_feature),label = 'Pred')\n",
        "\n",
        "plt.legend()\n",
        "plt.title(\"Polynomial Reg\")\n",
        "plt.show()"
      ],
      "execution_count": null,
      "outputs": [
        {
          "output_type": "display_data",
          "data": {
            "image/png": "[encoded data removed]",
            "text/plain": [
              "<Figure size 432x288 with 1 Axes>"
            ]
          },
          "metadata": {
            "tags": [],
            "needs_background": "light"
          }
        }
      ]
    },
    {
      "cell_type": "markdown",
      "metadata": {
        "id": "G1uHExq0rpBo"
      },
      "source": [
        "$$ {y = 3x^3 + 2x^2 + 7x + 1} $$\n",
        "$$ {y = 3.20x^3 + 2.33x^2 + 6.35x + 9.18} $$"
      ]
    },
    {
      "cell_type": "markdown",
      "metadata": {
        "id": "N0T5x7LArx3N"
      },
      "source": [
        "# **Practice 2**\n",
        "\n",
        "- 앞서 했던 sin 함수를 1차 그래프가 아닌 다차원 그래프로 정확한 예측을 해보자\n"
      ]
    },
    {
      "cell_type": "code",
      "metadata": {
        "id": "j7hqTkIimB3Q"
      },
      "source": [
        "N = 100\n",
        "X = np.linspace(0, 2*np.pi, N).reshape(N,1)\n",
        "\n",
        "y = np.sin(X)\n",
        "y += 0.3*np.random.rand(N,1)"
      ],
      "execution_count": null,
      "outputs": []
    },
    {
      "cell_type": "code",
      "metadata": {
        "id": "-yF3ST-AmBz1"
      },
      "source": [
        "polynomial = PolynomialFeatures(degree = 3, include_bias=False)\n",
        "sin_new_feature = polynomial.fit_transform(X)"
      ],
      "execution_count": null,
      "outputs": []
    },
    {
      "cell_type": "code",
      "metadata": {
        "colab": {
          "base_uri": "https://localhost:8080/"
        },
        "id": "BuTpYpSymBvV",
        "outputId": "eb08c6ad-6296-405d-b393-6c8cd7c168ad"
      },
      "source": [
        "print(\"기존의 X[0]: \", X[1])\n",
        "print(\"Feature가 추가된 X[0]: \", sin_new_feature[1])"
      ],
      "execution_count": null,
      "outputs": [
        {
          "output_type": "stream",
          "text": [
            "기존의 X[0]:  [0.06346652]\n",
            "Feature가 추가된 X[0]:  [0.06346652 0.004028   0.00025564]\n"
          ],
          "name": "stdout"
        }
      ]
    },
    {
      "cell_type": "markdown",
      "metadata": {
        "id": "rvZUc5HGslWB"
      },
      "source": [
        "### **Shuffle & Split train, test**"
      ]
    },
    {
      "cell_type": "code",
      "metadata": {
        "id": "njfhxm5XmBsO"
      },
      "source": [
        "# shuffle data\n",
        "idx = np.random.permutation(N)\n",
        "\n",
        "shuffle_X = sin_new_feature[idx]\n",
        "shuffle_y = y[idx]"
      ],
      "execution_count": null,
      "outputs": []
    },
    {
      "cell_type": "code",
      "metadata": {
        "id": "SrAi8eHvYgr7"
      },
      "source": [
        "# Split data\n",
        "n = int(N*(4/5))\n",
        "\n",
        "train_X = shuffle_X[:n]\n",
        "train_y = shuffle_y[:n]\n",
        "\n",
        "test_X = shuffle_X[n:]\n",
        "test_y = shuffle_y[n:]"
      ],
      "execution_count": null,
      "outputs": []
    },
    {
      "cell_type": "code",
      "metadata": {
        "colab": {
          "base_uri": "https://localhost:8080/"
        },
        "id": "N3nHFkCRtFPq",
        "outputId": "c0059908-c29f-49bc-d921-8849499627bd"
      },
      "source": [
        "# LinearRegression\n",
        "reg = LinearRegression()\n",
        "reg.fit(train_X,train_y)"
      ],
      "execution_count": null,
      "outputs": [
        {
          "output_type": "execute_result",
          "data": {
            "text/plain": [
              "LinearRegression(copy_X=True, fit_intercept=True, n_jobs=None, normalize=False)"
            ]
          },
          "metadata": {
            "tags": []
          },
          "execution_count": 221
        }
      ]
    },
    {
      "cell_type": "code",
      "metadata": {
        "colab": {
          "base_uri": "https://localhost:8080/"
        },
        "id": "-dyOIVkitFNO",
        "outputId": "b63f9539-af43-4a79-ed24-18720053e37f"
      },
      "source": [
        "print(reg.intercept_)\n",
        "print(reg.coef_)"
      ],
      "execution_count": null,
      "outputs": [
        {
          "output_type": "stream",
          "text": [
            "[0.00796539]\n",
            "[[ 1.90199565 -0.89455918  0.09607846]]\n"
          ],
          "name": "stdout"
        }
      ]
    },
    {
      "cell_type": "code",
      "metadata": {
        "id": "y7OPPtHwux0B"
      },
      "source": [
        "Pred = reg.predict(train_X)"
      ],
      "execution_count": null,
      "outputs": []
    },
    {
      "cell_type": "code",
      "metadata": {
        "colab": {
          "base_uri": "https://localhost:8080/",
          "height": 281
        },
        "id": "NV8UJ3kGtFKq",
        "outputId": "b0e433a7-7ba5-4018-ae7f-8bb8b92ca18d"
      },
      "source": [
        "plt.figure()\n",
        "plt.scatter(train_X[:,0], train_y, label = \"original\")\n",
        "plt.scatter(train_X[:,0], Pred, label = \"prediction\")\n",
        "\n",
        "plt.legend()\n",
        "plt.title(\"Sin, Polynomial Reg\")\n",
        "plt.show()"
      ],
      "execution_count": null,
      "outputs": [
        {
          "output_type": "display_data",
          "data": {
            "image/png": "[encoded data removed]",
            "text/plain": [
              "<Figure size 432x288 with 1 Axes>"
            ]
          },
          "metadata": {
            "tags": [],
            "needs_background": "light"
          }
        }
      ]
    },
    {
      "cell_type": "code",
      "metadata": {
        "id": "u1WGYdA5tFIO",
        "colab": {
          "base_uri": "https://localhost:8080/",
          "height": 281
        },
        "outputId": "c382f61f-a1f4-4b2e-aee8-028698ec5021"
      },
      "source": [
        "Pred = reg.predict(test_X)\n",
        "\n",
        "plt.figure()\n",
        "plt.scatter(test_X[:,0], test_y, label = \"original\")\n",
        "plt.scatter(test_X[:,0], Pred, label = \"prediction\")\n",
        "\n",
        "plt.legend()\n",
        "plt.title(\"Sin, Polynomial Reg\")\n",
        "plt.show()"
      ],
      "execution_count": null,
      "outputs": [
        {
          "output_type": "display_data",
          "data": {
            "image/png": "[encoded data removed]",
            "text/plain": [
              "<Figure size 432x288 with 1 Axes>"
            ]
          },
          "metadata": {
            "tags": [],
            "needs_background": "light"
          }
        }
      ]
    },
    {
      "cell_type": "markdown",
      "metadata": {
        "id": "UCFmMjmnEX99"
      },
      "source": [
        "### **Train, Test data로 plot**"
      ]
    },
    {
      "cell_type": "code",
      "metadata": {
        "id": "dLj9IkZ3EXvP"
      },
      "source": [
        "X_all = shuffle_X\n",
        "y_all = shuffle_y\n",
        "\n",
        "all_Pred = reg.predict(X_all)"
      ],
      "execution_count": null,
      "outputs": []
    },
    {
      "cell_type": "code",
      "metadata": {
        "id": "U3118OyCtFFo",
        "colab": {
          "base_uri": "https://localhost:8080/",
          "height": 281
        },
        "outputId": "13087514-3148-41f8-fe68-d6a549a7fe21"
      },
      "source": [
        "plt.figure()\n",
        "plt.scatter(X_all[:,0], y_all, label = 'ori')\n",
        "plt.scatter(X_all[:,0], all_Pred, label = \"prediction\")\n",
        "\n",
        "plt.legend()\n",
        "plt.title('Polynimial Reg')\n",
        "plt.show()"
      ],
      "execution_count": null,
      "outputs": [
        {
          "output_type": "display_data",
          "data": {
            "image/png": "[encoded data removed]",
            "text/plain": [
              "<Figure size 432x288 with 1 Axes>"
            ]
          },
          "metadata": {
            "tags": [],
            "needs_background": "light"
          }
        }
      ]
    },
    {
      "cell_type": "code",
      "metadata": {
        "id": "w5dCS5YgtFCg"
      },
      "source": [
        ""
      ],
      "execution_count": null,
      "outputs": []
    }
  ]
}