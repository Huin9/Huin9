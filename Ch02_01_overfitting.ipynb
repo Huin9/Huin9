{
  "nbformat": 4,
  "nbformat_minor": 0,
  "metadata": {
    "colab": {
      "name": "Ch02_01_overfitting.ipynb",
      "provenance": [],
      "collapsed_sections": [],
      "authorship_tag": "ABX9TyPJQPGdr19DPP9mbYCX6izC",
      "include_colab_link": true
    },
    "kernelspec": {
      "name": "python3",
      "display_name": "Python 3"
    },
    "language_info": {
      "name": "python"
    }
  },
  "cells": [
    {
      "cell_type": "markdown",
      "metadata": {
        "id": "view-in-github",
        "colab_type": "text"
      },
      "source": [
        "<a href=\"https://colab.research.google.com/github/Huin9/Huin9/blob/main/Ch02_01_overfitting.ipynb\" target=\"_parent\"><img src=\"https://colab.research.google.com/assets/colab-badge.svg\" alt=\"Open In Colab\"/></a>"
      ]
    },
    {
      "cell_type": "markdown",
      "metadata": {
        "id": "rDThexo2MNNl"
      },
      "source": [
        "# 01 Overfitting and Regularization"
      ]
    },
    {
      "cell_type": "markdown",
      "metadata": {
        "id": "25IlT97UMXMy"
      },
      "source": [
        "- How to solve?\n",
        "  - 더 많은 훈련 데이터 셋\n",
        "  - Smaller set of features\n",
        "    - 차원을 축소하는 방법, 딥러닝에서 배우는 AutoEncoder 또한 Dimension Reduction의 한 방법\n",
        "    - 설명 변수가 많다면 오차는 줄어들겠지만 새로운 data를 적용시키기에는 쉽지 않다\n",
        "  - Regularization(Add term to loss)\n",
        "    - RIDGE\n",
        "    - LASSO"
      ]
    },
    {
      "cell_type": "markdown",
      "metadata": {
        "id": "P9_gbWMTRbox"
      },
      "source": [
        "## example\n",
        "\n",
        "- Graph 상에 임의의 Dot을 찍어서 차수에 따른 그래프의 변화를 확인한다"
      ]
    },
    {
      "cell_type": "code",
      "metadata": {
        "id": "3GvLCY4AL9_7"
      },
      "source": [
        "from sklearn.linear_model import LinearRegression\n",
        "import numpy as np\n",
        "import matplotlib.pyplot as plt"
      ],
      "execution_count": 3,
      "outputs": []
    },
    {
      "cell_type": "markdown",
      "metadata": {
        "id": "iy4XVtPfR2XB"
      },
      "source": [
        "- 1차원 그래프"
      ]
    },
    {
      "cell_type": "code",
      "metadata": {
        "id": "Bi8IZd8yMFRB"
      },
      "source": [
        "X = np.arange(1,11).reshape(10,1)\n",
        "y = np.array([7,8,7,13,16,15,19,23,18,21]).reshape(10,1)"
      ],
      "execution_count": 4,
      "outputs": []
    },
    {
      "cell_type": "code",
      "metadata": {
        "colab": {
          "base_uri": "https://localhost:8080/",
          "height": 269
        },
        "id": "WZzHAQyBMFUC",
        "outputId": "0f42b6ea-6361-42d4-ca83-b16f1b4f89bf"
      },
      "source": [
        "plt.plot(X, y, 'ro') # bo = blue + circle / use go(green circle)\n",
        "\n",
        "axes = plt.gca()\n",
        "axes.set_ylim([0,30])\n",
        "\n",
        "plt.show()"
      ],
      "execution_count": 5,
      "outputs": [
        {
          "output_type": "display_data",
          "data": {
            "image/png": "[encoded data removed]",
            "text/plain": [
              "<Figure size 432x288 with 1 Axes>"
            ]
          },
          "metadata": {
            "tags": [],
            "needs_background": "light"
          }
        }
      ]
    },
    {
      "cell_type": "markdown",
      "metadata": {
        "id": "G-ZtcpYrTDG2"
      },
      "source": [
        "## Perform LinearRegression"
      ]
    },
    {
      "cell_type": "code",
      "metadata": {
        "colab": {
          "base_uri": "https://localhost:8080/"
        },
        "id": "HH2VupU7MFX5",
        "outputId": "6010d1f3-68bb-40d4-86c5-46d74a500a59"
      },
      "source": [
        "reg = LinearRegression()\n",
        "reg.fit(X,y)\n",
        "\n",
        "print(reg.intercept_)\n",
        "print(reg.coef_)"
      ],
      "execution_count": 6,
      "outputs": [
        {
          "output_type": "stream",
          "text": [
            "[4.93333333]\n",
            "[[1.77575758]]\n"
          ],
          "name": "stdout"
        }
      ]
    },
    {
      "cell_type": "markdown",
      "metadata": {
        "id": "MZea5ZLYThC0"
      },
      "source": [
        "### 1차원 그래프"
      ]
    },
    {
      "cell_type": "code",
      "metadata": {
        "id": "6T71_QxhMFau"
      },
      "source": [
        "y_pred = reg.predict(X)"
      ],
      "execution_count": 7,
      "outputs": []
    },
    {
      "cell_type": "code",
      "metadata": {
        "colab": {
          "base_uri": "https://localhost:8080/",
          "height": 269
        },
        "id": "H7v6oy3ZMFda",
        "outputId": "c73fa830-cfc6-46d8-d2cd-185f5e94299f"
      },
      "source": [
        "plt.plot(X, y, 'ro')\n",
        "plt.plot(X, y_pred)\n",
        "\n",
        "# gca = 그래프의 '축'을 설정\n",
        "axes = plt.gca()\n",
        "axes.set_xlim([0,11])\n",
        "axes.set_ylim([0,30])\n",
        "plt.show()"
      ],
      "execution_count": 8,
      "outputs": [
        {
          "output_type": "display_data",
          "data": {
            "image/png": "[encoded data removed]",
            "text/plain": [
              "<Figure size 432x288 with 1 Axes>"
            ]
          },
          "metadata": {
            "tags": [],
            "needs_background": "light"
          }
        }
      ]
    },
    {
      "cell_type": "markdown",
      "metadata": {
        "id": "NMnh962NUEU4"
      },
      "source": [
        "###  2차원 그래프"
      ]
    },
    {
      "cell_type": "code",
      "metadata": {
        "colab": {
          "base_uri": "https://localhost:8080/"
        },
        "id": "ia-irHsbMFgB",
        "outputId": "be641c73-b0d2-44a3-8c63-542326f6c240"
      },
      "source": [
        "# np_c => 1차원 배열 두개를 col 방향으로 나열해서 concatenation(x^2)\n",
        "X_2 = np.c_[X, X**2]\n",
        "X_2"
      ],
      "execution_count": 9,
      "outputs": [
        {
          "output_type": "execute_result",
          "data": {
            "text/plain": [
              "array([[  1,   1],\n",
              "       [  2,   4],\n",
              "       [  3,   9],\n",
              "       [  4,  16],\n",
              "       [  5,  25],\n",
              "       [  6,  36],\n",
              "       [  7,  49],\n",
              "       [  8,  64],\n",
              "       [  9,  81],\n",
              "       [ 10, 100]])"
            ]
          },
          "metadata": {
            "tags": []
          },
          "execution_count": 9
        }
      ]
    },
    {
      "cell_type": "code",
      "metadata": {
        "colab": {
          "base_uri": "https://localhost:8080/"
        },
        "id": "NyHf-Q3XMFi0",
        "outputId": "f0521711-2e44-45d5-e0c0-ebc04491d26e"
      },
      "source": [
        "reg = LinearRegression()\n",
        "\n",
        "reg.fit(X_2, y)\n",
        "\n",
        "print(reg.intercept_)\n",
        "print(reg.coef_)"
      ],
      "execution_count": 10,
      "outputs": [
        {
          "output_type": "stream",
          "text": [
            "[2.43333333]\n",
            "[[ 3.02575758 -0.11363636]]\n"
          ],
          "name": "stdout"
        }
      ]
    },
    {
      "cell_type": "code",
      "metadata": {
        "colab": {
          "base_uri": "https://localhost:8080/"
        },
        "id": "jJWdTTWpMFlt",
        "outputId": "969ff6b0-368f-480a-e560-abd3b5dfb101"
      },
      "source": [
        "print(reg.coef_)"
      ],
      "execution_count": 11,
      "outputs": [
        {
          "output_type": "stream",
          "text": [
            "[[ 3.02575758 -0.11363636]]\n"
          ],
          "name": "stdout"
        }
      ]
    },
    {
      "cell_type": "markdown",
      "metadata": {
        "id": "N-AYfnCpUxrU"
      },
      "source": [
        "- 그래프를 그려보자"
      ]
    },
    {
      "cell_type": "code",
      "metadata": {
        "id": "45z9axKZVNnD"
      },
      "source": [
        "y_pred_2 = reg.predict(X_2)"
      ],
      "execution_count": 12,
      "outputs": []
    },
    {
      "cell_type": "code",
      "metadata": {
        "colab": {
          "base_uri": "https://localhost:8080/",
          "height": 269
        },
        "id": "NrfsEebKMFoW",
        "outputId": "681b9351-d1c1-4e12-ff20-606bd2c3a26d"
      },
      "source": [
        "plt.plot(X, y, 'ro')\n",
        "plt.plot(X_2[:,0], y_pred_2)\n",
        "\n",
        "# gca = 그래프의 '축'을 설정\n",
        "axes = plt.gca()\n",
        "axes.set_xlim([0,11])\n",
        "axes.set_ylim([0,30])\n",
        "plt.show()"
      ],
      "execution_count": 13,
      "outputs": [
        {
          "output_type": "display_data",
          "data": {
            "image/png": "[encoded data removed]",
            "text/plain": [
              "<Figure size 432x288 with 1 Axes>"
            ]
          },
          "metadata": {
            "tags": [],
            "needs_background": "light"
          }
        }
      ]
    },
    {
      "cell_type": "markdown",
      "metadata": {
        "id": "yT8adJI_VUIy"
      },
      "source": [
        "###  3차원 그래프"
      ]
    },
    {
      "cell_type": "code",
      "metadata": {
        "colab": {
          "base_uri": "https://localhost:8080/"
        },
        "id": "ozO3BpuzVZcx",
        "outputId": "0e7814ab-ad96-480b-8074-5fd510317d72"
      },
      "source": [
        "# np_c => 1차원 배열 두개를 col 방향으로 나열해서 concatenation(x^2)\n",
        "X_3 = np.c_[X, X**2, X**3]\n",
        "X_3"
      ],
      "execution_count": 14,
      "outputs": [
        {
          "output_type": "execute_result",
          "data": {
            "text/plain": [
              "array([[   1,    1,    1],\n",
              "       [   2,    4,    8],\n",
              "       [   3,    9,   27],\n",
              "       [   4,   16,   64],\n",
              "       [   5,   25,  125],\n",
              "       [   6,   36,  216],\n",
              "       [   7,   49,  343],\n",
              "       [   8,   64,  512],\n",
              "       [   9,   81,  729],\n",
              "       [  10,  100, 1000]])"
            ]
          },
          "metadata": {
            "tags": []
          },
          "execution_count": 14
        }
      ]
    },
    {
      "cell_type": "code",
      "metadata": {
        "colab": {
          "base_uri": "https://localhost:8080/"
        },
        "id": "-Ka46sgqVkNf",
        "outputId": "1d6e5ed8-3d98-49da-c2bb-00a332da1205"
      },
      "source": [
        "from sklearn.preprocessing import PolynomialFeatures\n",
        "\n",
        "polynomial = PolynomialFeatures(degree=3, include_bias= False)\n",
        "X_3_poly = polynomial.fit_transform(X)\n",
        "X_3_poly"
      ],
      "execution_count": 15,
      "outputs": [
        {
          "output_type": "execute_result",
          "data": {
            "text/plain": [
              "array([[   1.,    1.,    1.],\n",
              "       [   2.,    4.,    8.],\n",
              "       [   3.,    9.,   27.],\n",
              "       [   4.,   16.,   64.],\n",
              "       [   5.,   25.,  125.],\n",
              "       [   6.,   36.,  216.],\n",
              "       [   7.,   49.,  343.],\n",
              "       [   8.,   64.,  512.],\n",
              "       [   9.,   81.,  729.],\n",
              "       [  10.,  100., 1000.]])"
            ]
          },
          "metadata": {
            "tags": []
          },
          "execution_count": 15
        }
      ]
    },
    {
      "cell_type": "code",
      "metadata": {
        "colab": {
          "base_uri": "https://localhost:8080/"
        },
        "id": "2X9UcNeWVZcz",
        "outputId": "813ca74f-d106-4c52-c03a-617b3eadeb08"
      },
      "source": [
        "reg = LinearRegression()\n",
        "reg.fit(X_3_poly, y)\n",
        "\n",
        "w0 = reg.intercept_\n",
        "w = reg.coef_\n",
        "\n",
        "print(w)\n",
        "\n",
        "print('w0:', w0)\n",
        "print('w1:', w[0][0]) # <- x^1에 곱해지는 w1\n",
        "print('w2:', w[0][1]) # <- x^2에 곱해지는 w2\n",
        "print('w3:', w[0][2]) # <- x^3에 곱해지는 w3"
      ],
      "execution_count": 16,
      "outputs": [
        {
          "output_type": "stream",
          "text": [
            "[[-1.2020202   0.8030303  -0.05555556]]\n",
            "w0: [7.2]\n",
            "w1: -1.2020202020202135\n",
            "w2: 0.8030303030303007\n",
            "w3: -0.05555555555555525\n"
          ],
          "name": "stdout"
        }
      ]
    },
    {
      "cell_type": "markdown",
      "metadata": {
        "id": "91w9y3iUWk6G"
      },
      "source": [
        "- Q) x=2 일때의 y값은?"
      ]
    },
    {
      "cell_type": "code",
      "metadata": {
        "colab": {
          "base_uri": "https://localhost:8080/"
        },
        "id": "Xc7qp7i1YVbo",
        "outputId": "47b8a91c-5b32-4090-9951-845246424301"
      },
      "source": [
        "X_2 = np.array([2,4,8])\n",
        "X_2"
      ],
      "execution_count": 17,
      "outputs": [
        {
          "output_type": "execute_result",
          "data": {
            "text/plain": [
              "array([2, 4, 8])"
            ]
          },
          "metadata": {
            "tags": []
          },
          "execution_count": 17
        }
      ]
    },
    {
      "cell_type": "code",
      "metadata": {
        "colab": {
          "base_uri": "https://localhost:8080/"
        },
        "id": "3R0JqHlCY8Ep",
        "outputId": "67d6efd5-e716-4253-e08c-fdfcef4ef6ea"
      },
      "source": [
        "w.reshape(-1,1)"
      ],
      "execution_count": 18,
      "outputs": [
        {
          "output_type": "execute_result",
          "data": {
            "text/plain": [
              "array([[-1.2020202 ],\n",
              "       [ 0.8030303 ],\n",
              "       [-0.05555556]])"
            ]
          },
          "metadata": {
            "tags": []
          },
          "execution_count": 18
        }
      ]
    },
    {
      "cell_type": "code",
      "metadata": {
        "colab": {
          "base_uri": "https://localhost:8080/"
        },
        "id": "oo0iTcvIVZcz",
        "outputId": "055f59c3-2afe-4807-9f3d-ce1a17509dd2"
      },
      "source": [
        "y_2 = X_2 @ w.reshape(-1,1) + w0\n",
        "y_2"
      ],
      "execution_count": 19,
      "outputs": [
        {
          "output_type": "execute_result",
          "data": {
            "text/plain": [
              "array([7.56363636])"
            ]
          },
          "metadata": {
            "tags": []
          },
          "execution_count": 19
        }
      ]
    },
    {
      "cell_type": "markdown",
      "metadata": {
        "id": "94WyyVf7VZc1"
      },
      "source": [
        "- 혹은 단순하게 "
      ]
    },
    {
      "cell_type": "code",
      "metadata": {
        "colab": {
          "base_uri": "https://localhost:8080/"
        },
        "id": "hDTb8ch-Zdy6",
        "outputId": "102445c3-c2d7-424d-d098-f734050fac74"
      },
      "source": [
        "print(w[0][2]*8 + w[0][1]*4 + w[0][0]*2 + w0)"
      ],
      "execution_count": 20,
      "outputs": [
        {
          "output_type": "stream",
          "text": [
            "[7.56363636]\n"
          ],
          "name": "stdout"
        }
      ]
    },
    {
      "cell_type": "markdown",
      "metadata": {
        "id": "0VNLobmZZ-Uu"
      },
      "source": [
        "- w와 intercept 값을 이용해서 그래프를새로 그려보자"
      ]
    },
    {
      "cell_type": "code",
      "metadata": {
        "colab": {
          "base_uri": "https://localhost:8080/"
        },
        "id": "Aa-M-TO6VZc2",
        "outputId": "e85bdd30-854b-46b9-b2c8-7f8900430297"
      },
      "source": [
        "y_pred_3 = reg.predict(X_3_poly)\n",
        "y_pred_3"
      ],
      "execution_count": 21,
      "outputs": [
        {
          "output_type": "execute_result",
          "data": {
            "text/plain": [
              "array([[ 6.74545455],\n",
              "       [ 7.56363636],\n",
              "       [ 9.32121212],\n",
              "       [11.68484848],\n",
              "       [14.32121212],\n",
              "       [16.8969697 ],\n",
              "       [19.07878788],\n",
              "       [20.53333333],\n",
              "       [20.92727273],\n",
              "       [19.92727273]])"
            ]
          },
          "metadata": {
            "tags": []
          },
          "execution_count": 21
        }
      ]
    },
    {
      "cell_type": "code",
      "metadata": {
        "colab": {
          "base_uri": "https://localhost:8080/",
          "height": 269
        },
        "id": "KrBjPBVyVZc2",
        "outputId": "7bbad378-95bf-420a-987d-9a55f6158b58"
      },
      "source": [
        "plt.plot(X, y, 'ro')\n",
        "plt.plot(X, y_pred_3)\n",
        "\n",
        "# gca = 그래프의 '축'을 설정\n",
        "axes = plt.gca()\n",
        "axes.set_xlim([0,11])\n",
        "axes.set_ylim([0,30])\n",
        "plt.show()"
      ],
      "execution_count": 22,
      "outputs": [
        {
          "output_type": "display_data",
          "data": {
            "image/png": "[encoded data removed]",
            "text/plain": [
              "<Figure size 432x288 with 1 Axes>"
            ]
          },
          "metadata": {
            "tags": [],
            "needs_background": "light"
          }
        }
      ]
    },
    {
      "cell_type": "markdown",
      "metadata": {
        "id": "QQWIPD-DaalW"
      },
      "source": [
        "- x 값의 범위를 좁게해서 그래프를 부드럽게"
      ]
    },
    {
      "cell_type": "code",
      "metadata": {
        "id": "UgY64rf5MFuF"
      },
      "source": [
        "X_new = np.arange(-5, 15, 0.01).reshape(-1,1)"
      ],
      "execution_count": 23,
      "outputs": []
    },
    {
      "cell_type": "code",
      "metadata": {
        "colab": {
          "base_uri": "https://localhost:8080/"
        },
        "id": "hParP-B9MFw0",
        "outputId": "fec1659c-d4bf-4baf-a1cc-c3388d7e5989"
      },
      "source": [
        "X_new"
      ],
      "execution_count": 24,
      "outputs": [
        {
          "output_type": "execute_result",
          "data": {
            "text/plain": [
              "array([[-5.  ],\n",
              "       [-4.99],\n",
              "       [-4.98],\n",
              "       ...,\n",
              "       [14.97],\n",
              "       [14.98],\n",
              "       [14.99]])"
            ]
          },
          "metadata": {
            "tags": []
          },
          "execution_count": 24
        }
      ]
    },
    {
      "cell_type": "code",
      "metadata": {
        "colab": {
          "base_uri": "https://localhost:8080/"
        },
        "id": "blPT28UyMFz1",
        "outputId": "90276e9f-7966-411e-b43b-717661077b3b"
      },
      "source": [
        "from sklearn.preprocessing import PolynomialFeatures\n",
        "\n",
        "polynomial = PolynomialFeatures(degree=3, include_bias = False)\n",
        "X_new_3 = polynomial.fit_transform(X_new)\n",
        "X_new_3"
      ],
      "execution_count": 25,
      "outputs": [
        {
          "output_type": "execute_result",
          "data": {
            "text/plain": [
              "array([[  -5.      ,   25.      , -125.      ],\n",
              "       [  -4.99    ,   24.9001  , -124.251499],\n",
              "       [  -4.98    ,   24.8004  , -123.505992],\n",
              "       ...,\n",
              "       [  14.97    ,  224.1009  , 3354.790473],\n",
              "       [  14.98    ,  224.4004  , 3361.517992],\n",
              "       [  14.99    ,  224.7001  , 3368.254499]])"
            ]
          },
          "metadata": {
            "tags": []
          },
          "execution_count": 25
        }
      ]
    },
    {
      "cell_type": "code",
      "metadata": {
        "colab": {
          "base_uri": "https://localhost:8080/"
        },
        "id": "IZbQ0PCUa739",
        "outputId": "4554a42b-6c9e-455e-d048-f247e7ac236e"
      },
      "source": [
        "y_pred_3 = (X_new_3 @ w.reshape(-1,1)) + w0\n",
        "y_pred_3"
      ],
      "execution_count": 26,
      "outputs": [
        {
          "output_type": "execute_result",
          "data": {
            "text/plain": [
              "array([[ 40.23030303],\n",
              "       [ 40.09647671],\n",
              "       [ 39.96297733],\n",
              "       ...,\n",
              "       [-17.21167729],\n",
              "       [-17.35694097],\n",
              "       [-17.50254338]])"
            ]
          },
          "metadata": {
            "tags": []
          },
          "execution_count": 26
        }
      ]
    },
    {
      "cell_type": "code",
      "metadata": {
        "colab": {
          "base_uri": "https://localhost:8080/",
          "height": 282
        },
        "id": "kKR84MX9gpaf",
        "outputId": "f425b736-2875-42d7-8f19-933063a3bf92"
      },
      "source": [
        "plt.plot(X_new, y_pred_3)"
      ],
      "execution_count": 27,
      "outputs": [
        {
          "output_type": "execute_result",
          "data": {
            "text/plain": [
              "[<matplotlib.lines.Line2D at 0x7f06e6a53ed0>]"
            ]
          },
          "metadata": {
            "tags": []
          },
          "execution_count": 27
        },
        {
          "output_type": "display_data",
          "data": {
            "image/png": "[encoded data removed]",
            "text/plain": [
              "<Figure size 432x288 with 1 Axes>"
            ]
          },
          "metadata": {
            "tags": [],
            "needs_background": "light"
          }
        }
      ]
    },
    {
      "cell_type": "code",
      "metadata": {
        "colab": {
          "base_uri": "https://localhost:8080/",
          "height": 269
        },
        "id": "WIDjt25-g481",
        "outputId": "d2ed3791-31a3-4901-9179-1eba7872b912"
      },
      "source": [
        "plt.plot(X, y, 'ro')\n",
        "plt.plot(X_new, y_pred_3)\n",
        "\n",
        "# gca = 그래프의 '축'을 설정\n",
        "axes = plt.gca()\n",
        "axes.set_xlim([0,11])\n",
        "axes.set_ylim([0,30])\n",
        "plt.show()"
      ],
      "execution_count": 28,
      "outputs": [
        {
          "output_type": "display_data",
          "data": {
            "image/png": "[encoded data removed]",
            "text/plain": [
              "<Figure size 432x288 with 1 Axes>"
            ]
          },
          "metadata": {
            "tags": [],
            "needs_background": "light"
          }
        }
      ]
    },
    {
      "cell_type": "markdown",
      "metadata": {
        "id": "FDR0-ikxhJ-p"
      },
      "source": [
        "### 7차원 그래프"
      ]
    },
    {
      "cell_type": "code",
      "metadata": {
        "colab": {
          "base_uri": "https://localhost:8080/"
        },
        "id": "Ot8FA9Lel369",
        "outputId": "1aace726-5ffa-4151-c6d4-917467333545"
      },
      "source": [
        "polynomial = PolynomialFeatures(degree=7, include_bias=False)\n",
        "X_7_poly = polynomial.fit_transform(X)\n",
        "X_7_poly"
      ],
      "execution_count": 29,
      "outputs": [
        {
          "output_type": "execute_result",
          "data": {
            "text/plain": [
              "array([[1.000000e+00, 1.000000e+00, 1.000000e+00, 1.000000e+00,\n",
              "        1.000000e+00, 1.000000e+00, 1.000000e+00],\n",
              "       [2.000000e+00, 4.000000e+00, 8.000000e+00, 1.600000e+01,\n",
              "        3.200000e+01, 6.400000e+01, 1.280000e+02],\n",
              "       [3.000000e+00, 9.000000e+00, 2.700000e+01, 8.100000e+01,\n",
              "        2.430000e+02, 7.290000e+02, 2.187000e+03],\n",
              "       [4.000000e+00, 1.600000e+01, 6.400000e+01, 2.560000e+02,\n",
              "        1.024000e+03, 4.096000e+03, 1.638400e+04],\n",
              "       [5.000000e+00, 2.500000e+01, 1.250000e+02, 6.250000e+02,\n",
              "        3.125000e+03, 1.562500e+04, 7.812500e+04],\n",
              "       [6.000000e+00, 3.600000e+01, 2.160000e+02, 1.296000e+03,\n",
              "        7.776000e+03, 4.665600e+04, 2.799360e+05],\n",
              "       [7.000000e+00, 4.900000e+01, 3.430000e+02, 2.401000e+03,\n",
              "        1.680700e+04, 1.176490e+05, 8.235430e+05],\n",
              "       [8.000000e+00, 6.400000e+01, 5.120000e+02, 4.096000e+03,\n",
              "        3.276800e+04, 2.621440e+05, 2.097152e+06],\n",
              "       [9.000000e+00, 8.100000e+01, 7.290000e+02, 6.561000e+03,\n",
              "        5.904900e+04, 5.314410e+05, 4.782969e+06],\n",
              "       [1.000000e+01, 1.000000e+02, 1.000000e+03, 1.000000e+04,\n",
              "        1.000000e+05, 1.000000e+06, 1.000000e+07]])"
            ]
          },
          "metadata": {
            "tags": []
          },
          "execution_count": 29
        }
      ]
    },
    {
      "cell_type": "code",
      "metadata": {
        "colab": {
          "base_uri": "https://localhost:8080/"
        },
        "id": "oEZAi-pMmGiv",
        "outputId": "d5bfde52-c5a7-4108-85ce-e2976245d679"
      },
      "source": [
        "reg = LinearRegression()\n",
        "reg.fit(X_7_poly, y)\n",
        "\n",
        "w = reg.coef_\n",
        "w0 = reg.intercept_\n",
        "print(w)\n",
        "print(w0)"
      ],
      "execution_count": 30,
      "outputs": [
        {
          "output_type": "stream",
          "text": [
            "[[ 2.78539902e+02 -2.37257520e+02  9.94563697e+01 -2.25924743e+01\n",
            "   2.83667485e+00 -1.84910131e-01  4.87861813e-03]]\n",
            "[-113.80000047]\n"
          ],
          "name": "stdout"
        }
      ]
    },
    {
      "cell_type": "code",
      "metadata": {
        "colab": {
          "base_uri": "https://localhost:8080/"
        },
        "id": "Pe4CX5UTpyPJ",
        "outputId": "f6209f9a-de1c-4b40-b6ba-4194b7f29a5d"
      },
      "source": [
        "print(w, '\\n')\n",
        "\n",
        "print('w0:', w0[0])\n",
        "print('w1:', w[0][0]) # <- x^1에 곱해지는 w1\n",
        "print('w2:', w[0][1]) # <- x^2에 곱해지는 w2\n",
        "print('w3:', w[0][2]) # <- x^3에 곱해지는 w3\n",
        "print('w1:', w[0][3]) # <- x^4에 곱해지는 w4\n",
        "print('w2:', w[0][4]) # <- x^5에 곱해지는 w5\n",
        "print('w3:', w[0][5]) # <- x^6에 곱해지는 w6\n",
        "print('w3:', w[0][6]) # <- x^6에 곱해지는 w7"
      ],
      "execution_count": 31,
      "outputs": [
        {
          "output_type": "stream",
          "text": [
            "[[ 2.78539902e+02 -2.37257520e+02  9.94563697e+01 -2.25924743e+01\n",
            "   2.83667485e+00 -1.84910131e-01  4.87861813e-03]] \n",
            "\n",
            "w0: -113.80000046732475\n",
            "w1: 278.5399021806267\n",
            "w2: -237.25751981363024\n",
            "w3: 99.45636974024056\n",
            "w1: -22.592474308015067\n",
            "w2: 2.8366748460611313\n",
            "w3: -0.18491013134342538\n",
            "w3: 0.004878618130533141\n"
          ],
          "name": "stdout"
        }
      ]
    },
    {
      "cell_type": "code",
      "metadata": {
        "colab": {
          "base_uri": "https://localhost:8080/"
        },
        "id": "aCPZc_Y6mOiL",
        "outputId": "9031031a-c899-44d0-b0e0-4acdc831ada3"
      },
      "source": [
        "y_pred_7 = reg.predict(X_7_poly)\n",
        "y_pred_7"
      ],
      "execution_count": 32,
      "outputs": [
        {
          "output_type": "execute_result",
          "data": {
            "text/plain": [
              "array([[ 7.00292066],\n",
              "       [ 7.98490342],\n",
              "       [ 7.01563148],\n",
              "       [13.0679556 ],\n",
              "       [15.74142326],\n",
              "       [15.41522003],\n",
              "       [18.61875769],\n",
              "       [23.2081448 ],\n",
              "       [17.93677496],\n",
              "       [21.00826808]])"
            ]
          },
          "metadata": {
            "tags": []
          },
          "execution_count": 32
        }
      ]
    },
    {
      "cell_type": "code",
      "metadata": {
        "colab": {
          "base_uri": "https://localhost:8080/",
          "height": 286
        },
        "id": "zmv4_xWimbLl",
        "outputId": "b707f0dd-42a7-4133-b568-ec90ec9c7d5a"
      },
      "source": [
        "plt.plot(X, y, 'ro')\n",
        "plt.plot(X_7_poly[:,0], y_pred_7)"
      ],
      "execution_count": 33,
      "outputs": [
        {
          "output_type": "execute_result",
          "data": {
            "text/plain": [
              "[<matplotlib.lines.Line2D at 0x7f06e8b327d0>]"
            ]
          },
          "metadata": {
            "tags": []
          },
          "execution_count": 33
        },
        {
          "output_type": "display_data",
          "data": {
            "image/png": "[encoded data removed]",
            "text/plain": [
              "<Figure size 432x288 with 1 Axes>"
            ]
          },
          "metadata": {
            "tags": [],
            "needs_background": "light"
          }
        }
      ]
    },
    {
      "cell_type": "code",
      "metadata": {
        "colab": {
          "base_uri": "https://localhost:8080/"
        },
        "id": "cepwOCrLhEB0",
        "outputId": "340ce702-3425-4cb1-95c3-c7fc625d94b7"
      },
      "source": [
        "X_new = np.arange(-5, 15, 0.01).reshape(-1,1)\n",
        "polynomial = PolynomialFeatures(degree=7, include_bias = False)\n",
        "X_new_7 = polynomial.fit_transform(X_new)\n",
        "X_new_7"
      ],
      "execution_count": 34,
      "outputs": [
        {
          "output_type": "execute_result",
          "data": {
            "text/plain": [
              "array([[-5.00000000e+00,  2.50000000e+01, -1.25000000e+02, ...,\n",
              "        -3.12500000e+03,  1.56250000e+04, -7.81250000e+04],\n",
              "       [-4.99000000e+00,  2.49001000e+01, -1.24251499e+02, ...,\n",
              "        -3.09387475e+03,  1.54384350e+04, -7.70377907e+04],\n",
              "       [-4.98000000e+00,  2.48004000e+01, -1.23505992e+02, ...,\n",
              "        -3.06299800e+03,  1.52537301e+04, -7.59635757e+04],\n",
              "       ...,\n",
              "       [ 1.49700000e+01,  2.24100900e+02,  3.35479047e+03, ...,\n",
              "         7.51811564e+05,  1.12546191e+07,  1.68481648e+08],\n",
              "       [ 1.49800000e+01,  2.24400400e+02,  3.36151799e+03, ...,\n",
              "         7.54325982e+05,  1.12998032e+07,  1.69271052e+08],\n",
              "       [ 1.49900000e+01,  2.24700100e+02,  3.36825450e+03, ...,\n",
              "         7.56847123e+05,  1.13451384e+07,  1.70063624e+08]])"
            ]
          },
          "metadata": {
            "tags": []
          },
          "execution_count": 34
        }
      ]
    },
    {
      "cell_type": "code",
      "metadata": {
        "colab": {
          "base_uri": "https://localhost:8080/"
        },
        "id": "Zxh727cfo2OJ",
        "outputId": "bff16b29-93e0-4134-9e27-480500ebdb10"
      },
      "source": [
        "reg.intercept_"
      ],
      "execution_count": 35,
      "outputs": [
        {
          "output_type": "execute_result",
          "data": {
            "text/plain": [
              "array([-113.80000047])"
            ]
          },
          "metadata": {
            "tags": []
          },
          "execution_count": 35
        }
      ]
    },
    {
      "cell_type": "code",
      "metadata": {
        "colab": {
          "base_uri": "https://localhost:8080/"
        },
        "id": "LMa2u6ZRnC1j",
        "outputId": "57740cbe-dcce-4ae3-fe47-01697545f8b2"
      },
      "source": [
        "y_pred_7 = (X_new_7 @ reg.coef_.reshape(-1,1)) + reg.intercept_\n",
        "y_pred_7"
      ],
      "execution_count": 36,
      "outputs": [
        {
          "output_type": "execute_result",
          "data": {
            "text/plain": [
              "array([[-46125.25190438],\n",
              "       [-45783.60330071],\n",
              "       [-45444.0872479 ],\n",
              "       ...,\n",
              "       [ 23429.60498549],\n",
              "       [ 23624.45561806],\n",
              "       [ 23820.66260959]])"
            ]
          },
          "metadata": {
            "tags": []
          },
          "execution_count": 36
        }
      ]
    },
    {
      "cell_type": "code",
      "metadata": {
        "colab": {
          "base_uri": "https://localhost:8080/",
          "height": 282
        },
        "id": "-Q9Pv6Ssnstb",
        "outputId": "4e91d9ee-362b-4bdb-e462-0100006d2ffb"
      },
      "source": [
        "plt.plot(X_new, y_pred_7)"
      ],
      "execution_count": 37,
      "outputs": [
        {
          "output_type": "execute_result",
          "data": {
            "text/plain": [
              "[<matplotlib.lines.Line2D at 0x7f06e90845d0>]"
            ]
          },
          "metadata": {
            "tags": []
          },
          "execution_count": 37
        },
        {
          "output_type": "display_data",
          "data": {
            "image/png": "[encoded data removed]",
            "text/plain": [
              "<Figure size 432x288 with 1 Axes>"
            ]
          },
          "metadata": {
            "tags": [],
            "needs_background": "light"
          }
        }
      ]
    },
    {
      "cell_type": "code",
      "metadata": {
        "colab": {
          "base_uri": "https://localhost:8080/",
          "height": 269
        },
        "id": "AM1Hk1M1lfNe",
        "outputId": "c6a5a223-aa92-4a4f-a9bf-d6e8b1f93b67"
      },
      "source": [
        "plt.plot(X, y, 'ro')\n",
        "plt.plot(X_new, y_pred_7)\n",
        "\n",
        "# gca = 그래프의 '축'을 설정\n",
        "axes = plt.gca()\n",
        "axes.set_xlim([0,11])\n",
        "axes.set_ylim([0,30])\n",
        "plt.show()"
      ],
      "execution_count": 38,
      "outputs": [
        {
          "output_type": "display_data",
          "data": {
            "image/png": "[encoded data removed]",
            "text/plain": [
              "<Figure size 432x288 with 1 Axes>"
            ]
          },
          "metadata": {
            "tags": [],
            "needs_background": "light"
          }
        }
      ]
    },
    {
      "cell_type": "markdown",
      "metadata": {
        "id": "iltBTfFfqpgn"
      },
      "source": [
        "## Overfitting 방지"
      ]
    },
    {
      "cell_type": "markdown",
      "metadata": {
        "id": "Lw4MpsFVqzTG"
      },
      "source": [
        "### RIDGE method"
      ]
    },
    {
      "cell_type": "code",
      "metadata": {
        "id": "TIzse4NPqyyk"
      },
      "source": [
        "from sklearn.linear_model import Ridge"
      ],
      "execution_count": 39,
      "outputs": []
    },
    {
      "cell_type": "code",
      "metadata": {
        "colab": {
          "base_uri": "https://localhost:8080/"
        },
        "id": "MJKP2dzhlfQl",
        "outputId": "1bfe0b9a-908e-47a6-f62b-bf03c8d1c475"
      },
      "source": [
        "ridge = Ridge(alpha=1.0) # = 람다\n",
        "ridge.fit(X_7_poly, y)"
      ],
      "execution_count": 40,
      "outputs": [
        {
          "output_type": "execute_result",
          "data": {
            "text/plain": [
              "Ridge(alpha=1.0, copy_X=True, fit_intercept=True, max_iter=None,\n",
              "      normalize=False, random_state=None, solver='auto', tol=0.001)"
            ]
          },
          "metadata": {
            "tags": []
          },
          "execution_count": 40
        }
      ]
    },
    {
      "cell_type": "code",
      "metadata": {
        "colab": {
          "base_uri": "https://localhost:8080/"
        },
        "id": "-Z2eNJIbhEKn",
        "outputId": "4dfb6445-8e84-40a5-e861-889923a8ef3c"
      },
      "source": [
        "y_pred_ridge = ridge.predict(X_7_poly)\n",
        "y_pred_ridge"
      ],
      "execution_count": 49,
      "outputs": [
        {
          "output_type": "execute_result",
          "data": {
            "text/plain": [
              "array([[ 6.58539548],\n",
              "       [ 7.67540508],\n",
              "       [ 9.40488209],\n",
              "       [11.4819662 ],\n",
              "       [14.06923745],\n",
              "       [17.16324835],\n",
              "       [19.90309737],\n",
              "       [20.71792191],\n",
              "       [19.22318841],\n",
              "       [20.77565765]])"
            ]
          },
          "metadata": {
            "tags": []
          },
          "execution_count": 49
        }
      ]
    },
    {
      "cell_type": "code",
      "metadata": {
        "id": "tEYeDu2VhENw",
        "colab": {
          "base_uri": "https://localhost:8080/"
        },
        "outputId": "fbc80699-3acd-4b0b-a093-945949fc41b1"
      },
      "source": [
        "w0 = ridge.intercept_\n",
        "w = ridge.coef_\n",
        "\n",
        "print(w, '\\n')\n",
        "\n",
        "print('w0:', w0[0])\n",
        "print('w1:', w[0][0]) # <- x^1에 곱해지는 w1\n",
        "print('w2:', w[0][1]) # <- x^2에 곱해지는 w2\n",
        "print('w3:', w[0][2]) # <- x^3에 곱해지는 w3\n",
        "print('w1:', w[0][3]) # <- x^4에 곱해지는 w4\n",
        "print('w2:', w[0][4]) # <- x^5에 곱해지는 w5\n",
        "print('w3:', w[0][5]) # <- x^6에 곱해지는 w6\n",
        "print('w3:', w[0][6]) # <- x^6에 곱해지는 w7"
      ],
      "execution_count": 50,
      "outputs": [
        {
          "output_type": "stream",
          "text": [
            "[[-2.34723213e-01 -9.30910788e-02  6.16961612e-01 -2.74594733e-01\n",
            "   5.50301417e-02 -5.15343046e-03  1.80531321e-04]] \n",
            "\n",
            "w0: 6.5207856522803205\n",
            "w1: -0.23472321256704515\n",
            "w2: -0.09309107877150614\n",
            "w3: 0.6169616124214852\n",
            "w1: -0.2745947331741506\n",
            "w2: 0.055030141728562056\n",
            "w3: -0.005153430456323159\n",
            "w3: 0.00018053132147908478\n"
          ],
          "name": "stdout"
        }
      ]
    },
    {
      "cell_type": "code",
      "metadata": {
        "id": "vJs5vl1uhEUL",
        "colab": {
          "base_uri": "https://localhost:8080/"
        },
        "outputId": "2db82e2f-e5e9-4b37-f657-e65ab7369e84"
      },
      "source": [
        "# coef_.reshape를 알아볼 수 있게 다시 표현\n",
        "print([\"{:0.3f}\".format(x) for x in w.reshape(-1,)])"
      ],
      "execution_count": 51,
      "outputs": [
        {
          "output_type": "stream",
          "text": [
            "['-0.235', '-0.093', '0.617', '-0.275', '0.055', '-0.005', '0.000']\n"
          ],
          "name": "stdout"
        }
      ]
    },
    {
      "cell_type": "markdown",
      "metadata": {
        "id": "7FOZnY2d34Qk"
      },
      "source": [
        "### 그래프를 다시 그려보자"
      ]
    },
    {
      "cell_type": "code",
      "metadata": {
        "id": "JyfqPBEUCBAs"
      },
      "source": [
        "# 그래프가 부드러운 모양이 되도록  X_new_7 을 이용\n",
        "y_pred_ridge = ridge.predict(X_new_7)"
      ],
      "execution_count": 52,
      "outputs": []
    },
    {
      "cell_type": "code",
      "metadata": {
        "colab": {
          "base_uri": "https://localhost:8080/",
          "height": 269
        },
        "id": "8XXpY_Cu3zzQ",
        "outputId": "e5bee927-d178-4111-9f57-96a70661ae7f"
      },
      "source": [
        "plt.plot(X, y,'ro')\n",
        "plt.plot(X_new, y_pred_7)\n",
        "plt.plot(X_new, y_pred_ridge)\n",
        "\n",
        "plt.legend(['Original', 'without Ridge', 'Ridge Regression'])\n",
        "\n",
        "# gca = 그래프의 '축'을 설정\n",
        "axes = plt.gca()\n",
        "axes.set_xlim([0,11])\n",
        "axes.set_ylim([0,30]) #gca를 이용해 y의 범위를 0~30으로 늘려준다\n",
        "plt.show()"
      ],
      "execution_count": 55,
      "outputs": [
        {
          "output_type": "display_data",
          "data": {
            "image/png": "[encoded data removed]",
            "text/plain": [
              "<Figure size 432x288 with 1 Axes>"
            ]
          },
          "metadata": {
            "tags": [],
            "needs_background": "light"
          }
        }
      ]
    }
  ]
}