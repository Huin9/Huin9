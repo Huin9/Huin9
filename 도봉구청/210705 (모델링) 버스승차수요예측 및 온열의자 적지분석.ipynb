{
 "cells": [
  {
   "cell_type": "markdown",
   "id": "c3ba7b9a",
   "metadata": {},
   "source": [
    "#  **모델링**) 버스승차수요예측 및 온열의자 적지분석\n",
    "> - 코로나19(감염병)의 확산은 구민들의 대중교통 이용에 영향을 미친다.   \n",
    "> - 사회적 거리두기가 확대되면 구민의 대중교통 이용패턴이 달라지고 대중교통 이용규모 역시 감소한다.  \n",
    "> - 코로나 확산이 시작된 2020년을 기점으로 구민들의 대중교통 이용패턴이 어떻게 변화했는지를 실증적으로 분석해보고,\n",
    "> - 2020년과 2021년 버스승하차인원 데이터를 바탕으로 2021년 겨울 버스승하차인원을 예측해본다.\n",
    "> - 이를 통해 얻은 예측수요와 기타 환경적인 요인을 고려하여 2021년 겨울 추위녹이소 설치 적지 상위 20위를 제안한다. "
   ]
  },
  {
   "cell_type": "markdown",
   "id": "d5b722e8",
   "metadata": {},
   "source": [
    "> ## `Importing modules and data`"
   ]
  },
  {
   "cell_type": "code",
   "execution_count": 2,
   "id": "5c7eb499",
   "metadata": {
    "ExecuteTime": {
     "end_time": "2021-07-30T00:14:49.459968Z",
     "start_time": "2021-07-30T00:14:45.182348Z"
    }
   },
   "outputs": [],
   "source": [
    "# API\n",
    "import requests\n",
    "import json\n",
    "\n",
    "# Data format\n",
    "import feather\n",
    "\n",
    "# Data processing\n",
    "import pandas as pd\n",
    "import numpy as np\n",
    "\n",
    "# Geopandas, shapely, fiona\n",
    "import geopandas as gpd\n",
    "import geojson as gj\n",
    "from geopandas.tools import sjoin\n",
    "import shapely\n",
    "from shapely.geometry import Point, Polygon\n",
    "from pyproj import Proj, CRS, transform\n",
    "from fiona.crs import from_epsg\n",
    "\n",
    "# 맵박스\n",
    "import pydeck as pdk\n",
    "from mapboxgl.utils import create_color_stops, create_numeric_stops\n",
    "\n",
    "# 맵박스 API KEY \n",
    "MAPBOX_API_KEY = \"pk.eyJ1IjoibmtubjIwMDQiLCJhIjoiY2tmM252eXVtMDR3ZTJ3bnN6OGFiZGxpOCJ9.m3xqz8keGqXURVkz2N3znA\"\n",
    "\n",
    "# ML\n",
    "from sklearn.preprocessing import RobustScaler, StandardScaler\n",
    "from sklearn.neighbors import NearestNeighbors\n",
    "from sklearn.cluster import DBSCAN, MeanShift, KMeans\n",
    "\n",
    "# time\n",
    "from datetime import datetime\n",
    "from tqdm import tqdm, trange\n",
    "\n",
    "# xml\n",
    "import xml.etree.ElementTree as ET\n",
    "\n",
    "# sql 연동\n",
    "import pymysql.cursors\n",
    "from sqlalchemy import create_engine\n",
    "pymysql.install_as_MySQLdb()\n",
    "import MySQLdb\n",
    "\n",
    "from IPython.display import Image\n",
    "pd.set_option('display.max_columns', None)"
   ]
  },
  {
   "cell_type": "code",
   "execution_count": 1,
   "id": "da24bac1",
   "metadata": {
    "ExecuteTime": {
     "end_time": "2021-07-30T00:14:37.116054Z",
     "start_time": "2021-07-30T00:14:32.174737Z"
    }
   },
   "outputs": [
    {
     "data": {
      "image/png": "[encoded data removed]",
      "text/plain": [
       "<Figure size 216x72 with 1 Axes>"
      ]
     },
     "metadata": {},
     "output_type": "display_data"
    }
   ],
   "source": [
    "# Data visualization\n",
    "import matplotlib as mpl\n",
    "from matplotlib import font_manager,rc\n",
    "import matplotlib.pyplot as plt\n",
    "%matplotlib inline\n",
    "\n",
    "import seaborn as sns\n",
    "palette = ['#2fe1ca', '#0d2c3d','#2fbde1']\n",
    "sns.set_style('whitegrid')\n",
    "sns.palplot(palette)"
   ]
  },
  {
   "cell_type": "markdown",
   "id": "e15154ee",
   "metadata": {},
   "source": [
    "## "
   ]
  },
  {
   "cell_type": "code",
   "execution_count": 16,
   "id": "06ce927a",
   "metadata": {
    "ExecuteTime": {
     "end_time": "2021-07-30T00:56:00.832841Z",
     "start_time": "2021-07-30T00:56:00.818875Z"
    }
   },
   "outputs": [
    {
     "data": {
      "text/html": [
       "<div>\n",
       "<style scoped>\n",
       "    .dataframe tbody tr th:only-of-type {\n",
       "        vertical-align: middle;\n",
       "    }\n",
       "\n",
       "    .dataframe tbody tr th {\n",
       "        vertical-align: top;\n",
       "    }\n",
       "\n",
       "    .dataframe thead th {\n",
       "        text-align: right;\n",
       "    }\n",
       "</style>\n",
       "<table border=\"1\" class=\"dataframe\">\n",
       "  <thead>\n",
       "    <tr style=\"text-align: right;\">\n",
       "      <th></th>\n",
       "      <th>STOP_NM</th>\n",
       "      <th>XCODE</th>\n",
       "      <th>YCODE</th>\n",
       "      <th>heat_chair</th>\n",
       "      <th>bis</th>\n",
       "    </tr>\n",
       "    <tr>\n",
       "      <th>STOP_NO</th>\n",
       "      <th></th>\n",
       "      <th></th>\n",
       "      <th></th>\n",
       "      <th></th>\n",
       "      <th></th>\n",
       "    </tr>\n",
       "  </thead>\n",
       "  <tbody>\n",
       "    <tr>\n",
       "      <th>10001</th>\n",
       "      <td>도봉산역</td>\n",
       "      <td>127.045432</td>\n",
       "      <td>37.689195</td>\n",
       "      <td>0</td>\n",
       "      <td>1</td>\n",
       "    </tr>\n",
       "    <tr>\n",
       "      <th>10002</th>\n",
       "      <td>도봉산역</td>\n",
       "      <td>127.045637</td>\n",
       "      <td>37.688785</td>\n",
       "      <td>0</td>\n",
       "      <td>1</td>\n",
       "    </tr>\n",
       "    <tr>\n",
       "      <th>10003</th>\n",
       "      <td>도봉한신아파트</td>\n",
       "      <td>127.045919</td>\n",
       "      <td>37.684052</td>\n",
       "      <td>0</td>\n",
       "      <td>1</td>\n",
       "    </tr>\n",
       "    <tr>\n",
       "      <th>10004</th>\n",
       "      <td>도봉한신아파트</td>\n",
       "      <td>127.045915</td>\n",
       "      <td>37.682572</td>\n",
       "      <td>0</td>\n",
       "      <td>1</td>\n",
       "    </tr>\n",
       "    <tr>\n",
       "      <th>10005</th>\n",
       "      <td>서울북부지방법원.검찰청.도봉역성황당</td>\n",
       "      <td>127.044915</td>\n",
       "      <td>37.677729</td>\n",
       "      <td>0</td>\n",
       "      <td>1</td>\n",
       "    </tr>\n",
       "    <tr>\n",
       "      <th>...</th>\n",
       "      <td>...</td>\n",
       "      <td>...</td>\n",
       "      <td>...</td>\n",
       "      <td>...</td>\n",
       "      <td>...</td>\n",
       "    </tr>\n",
       "    <tr>\n",
       "      <th>10841</th>\n",
       "      <td>효문중학교</td>\n",
       "      <td>127.018349</td>\n",
       "      <td>37.651572</td>\n",
       "      <td>0</td>\n",
       "      <td>0</td>\n",
       "    </tr>\n",
       "    <tr>\n",
       "      <th>10842</th>\n",
       "      <td>효문중학교</td>\n",
       "      <td>127.018331</td>\n",
       "      <td>37.651568</td>\n",
       "      <td>0</td>\n",
       "      <td>0</td>\n",
       "    </tr>\n",
       "    <tr>\n",
       "      <th>10843</th>\n",
       "      <td>도봉중학교후문</td>\n",
       "      <td>127.045045</td>\n",
       "      <td>37.671165</td>\n",
       "      <td>0</td>\n",
       "      <td>0</td>\n",
       "    </tr>\n",
       "    <tr>\n",
       "      <th>10997</th>\n",
       "      <td>새마을금고</td>\n",
       "      <td>127.036376</td>\n",
       "      <td>37.665134</td>\n",
       "      <td>0</td>\n",
       "      <td>0</td>\n",
       "    </tr>\n",
       "    <tr>\n",
       "      <th>10999</th>\n",
       "      <td>온누리교회</td>\n",
       "      <td>127.040383</td>\n",
       "      <td>37.667301</td>\n",
       "      <td>0</td>\n",
       "      <td>0</td>\n",
       "    </tr>\n",
       "  </tbody>\n",
       "</table>\n",
       "<p>369 rows × 5 columns</p>\n",
       "</div>"
      ],
      "text/plain": [
       "                     STOP_NM       XCODE      YCODE  heat_chair  bis\n",
       "STOP_NO                                                             \n",
       "10001                   도봉산역  127.045432  37.689195           0    1\n",
       "10002                   도봉산역  127.045637  37.688785           0    1\n",
       "10003                도봉한신아파트  127.045919  37.684052           0    1\n",
       "10004                도봉한신아파트  127.045915  37.682572           0    1\n",
       "10005    서울북부지방법원.검찰청.도봉역성황당  127.044915  37.677729           0    1\n",
       "...                      ...         ...        ...         ...  ...\n",
       "10841                  효문중학교  127.018349  37.651572           0    0\n",
       "10842                  효문중학교  127.018331  37.651568           0    0\n",
       "10843                도봉중학교후문  127.045045  37.671165           0    0\n",
       "10997                  새마을금고  127.036376  37.665134           0    0\n",
       "10999                  온누리교회  127.040383  37.667301           0    0\n",
       "\n",
       "[369 rows x 5 columns]"
      ]
     },
     "execution_count": 16,
     "metadata": {},
     "output_type": "execute_result"
    }
   ],
   "source": [
    "bus_stop = pd.read_feather('도봉구_버스정류장.ft')\n",
    "bus_stop.set_index('STOP_NO', inplace=True)\n",
    "bus_stop.head()"
   ]
  },
  {
   "cell_type": "code",
   "execution_count": 19,
   "id": "d89bfc8c",
   "metadata": {
    "ExecuteTime": {
     "end_time": "2021-07-30T05:24:45.658956Z",
     "start_time": "2021-07-30T05:24:45.651979Z"
    }
   },
   "outputs": [
    {
     "data": {
      "text/plain": [
       "906864"
      ]
     },
     "execution_count": 19,
     "metadata": {},
     "output_type": "execute_result"
    }
   ],
   "source": [
    " "
   ]
  },
  {
   "cell_type": "code",
   "execution_count": null,
   "id": "62343870",
   "metadata": {},
   "outputs": [],
   "source": []
  },
  {
   "cell_type": "code",
   "execution_count": null,
   "id": "f10a9c79",
   "metadata": {},
   "outputs": [],
   "source": []
  }
 ],
 "metadata": {
  "hide_input": false,
  "kernelspec": {
   "display_name": "Python 3",
   "language": "python",
   "name": "python3"
  },
  "language_info": {
   "codemirror_mode": {
    "name": "ipython",
    "version": 3
   },
   "file_extension": ".py",
   "mimetype": "text/x-python",
   "name": "python",
   "nbconvert_exporter": "python",
   "pygments_lexer": "ipython3",
   "version": "3.8.8"
  },
  "toc": {
   "base_numbering": 1,
   "nav_menu": {},
   "number_sections": true,
   "sideBar": true,
   "skip_h1_title": true,
   "title_cell": "Table of Contents",
   "title_sidebar": "Contents",
   "toc_cell": false,
   "toc_position": {},
   "toc_section_display": true,
   "toc_window_display": true
  },
  "varInspector": {
   "cols": {
    "lenName": 16,
    "lenType": 16,
    "lenVar": 40
   },
   "kernels_config": {
    "python": {
     "delete_cmd_postfix": "",
     "delete_cmd_prefix": "del ",
     "library": "var_list.py",
     "varRefreshCmd": "print(var_dic_list())"
    },
    "r": {
     "delete_cmd_postfix": ") ",
     "delete_cmd_prefix": "rm(",
     "library": "var_list.r",
     "varRefreshCmd": "cat(var_dic_list()) "
    }
   },
   "types_to_exclude": [
    "module",
    "function",
    "builtin_function_or_method",
    "instance",
    "_Feature"
   ],
   "window_display": false
  }
 },
 "nbformat": 4,
 "nbformat_minor": 5
}
